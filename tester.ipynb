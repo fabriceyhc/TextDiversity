{
 "cells": [
  {
   "cell_type": "code",
   "execution_count": 22,
   "id": "54b94b7b",
   "metadata": {},
   "outputs": [],
   "source": [
    "import random\n",
    "from time import perf_counter\n",
    "from datasets import load_dataset\n",
    "from textdiversity import (\n",
    "    DocumentSemanticDiversity,\n",
    "    POSSequenceDiversity,\n",
    "    RhythmicDiversity,\n",
    "    DependencyDiversity,\n",
    ")"
   ]
  },
  {
   "cell_type": "code",
   "execution_count": 2,
   "id": "2e35920b",
   "metadata": {},
   "outputs": [
    {
     "name": "stderr",
     "output_type": "stream",
     "text": [
      "WARNING:datasets.builder:Reusing dataset glue (C:\\Users\\Fabrice\\.cache\\huggingface\\datasets\\glue\\sst2\\1.0.0\\dacbe3125aa31d7f70367a07a8a9e72a5a0bfeb5fc42e75c9db75b96da6053ad)\n"
     ]
    }
   ],
   "source": [
    "dataset = load_dataset(\"glue\", \"sst2\", split=\"train\")\n",
    "dataset = dataset.rename_column(\"sentence\", \"text\")"
   ]
  },
  {
   "cell_type": "code",
   "execution_count": 20,
   "id": "bdc4ecc1",
   "metadata": {},
   "outputs": [],
   "source": [
    "metric_classes = [\n",
    "    DocumentSemanticDiversity,\n",
    "    POSSequenceDiversity,\n",
    "    # RhythmicDiversity,\n",
    "    DependencyDiversity,\n",
    "]\n",
    "metric_instances = [m() for m in metric_classes]"
   ]
  },
  {
   "cell_type": "code",
   "execution_count": 27,
   "id": "5933b5e0",
   "metadata": {},
   "outputs": [
    {
     "name": "stdout",
     "output_type": "stream",
     "text": [
      "DocumentSemanticDiversity\n",
      "query: I cannot believe how dumb this movie is\n",
      "score: 0.81 | text: is a truly , truly bad movie \n",
      "score: 0.8 | text: lousy movie \n",
      "score: 0.78 | text: barn-burningly bad movie \n",
      "search took 3.59 seconds\n",
      "POSSequenceDiversity\n",
      "query: I cannot believe how dumb this movie is\n",
      "score: 0.67 | text: they wo n't enjoy the movie at all .\n",
      "score: 0.56 | text: does n't add up to a whole lot\n",
      "score: 0.56 | text: , there 's much to recommend the film .\n",
      "search took 5.44 seconds\n",
      "DependencyDiversity\n",
      "query: I cannot believe how dumb this movie is\n",
      "score: 0.27000001072883606 | text: this odd , poetic road movie , spiked by jolts of pop music , pretty much takes place in morton 's ever-watchful gaze -- and it 's a tribute to the actress , and to her inventive director , that the journey is such a mesmerizing one .\n",
      "score: 0.25999999046325684 | text: once again he has n't lost his touch , bringing off a superb performance in an admittedly middling film\n",
      "score: 0.20999999344348907 | text: the movie 's messages are quite admirable , but the story is just too clichéd and too often strains credulity\n",
      "search took 6.61 seconds\n"
     ]
    }
   ],
   "source": [
    "texts = random.sample(dataset['text'], 1000)\n",
    "# texts = dataset['text'][:1000]\n",
    "\n",
    "# extract query from corpus\n",
    "query = \"I cannot believe how dumb this movie is\"\n",
    "\n",
    "for metric in metric_instances:\n",
    "    print(metric.__class__.__name__)\n",
    "    print(f\"query: {query}\")\n",
    "    start_time = perf_counter()\n",
    "    ranking, scores = metric.rank_similarity([query], texts, top_n=3)\n",
    "    for text, score in zip(ranking, scores):\n",
    "        print(f\"score: {round(score, 2)} | text: {text}\")\n",
    "    print(f\"search took {round(perf_counter() - start_time, 2)} seconds\")"
   ]
  },
  {
   "cell_type": "code",
   "execution_count": null,
   "id": "4fe44b7e",
   "metadata": {},
   "outputs": [],
   "source": []
  }
 ],
 "metadata": {
  "kernelspec": {
   "display_name": "Python 3 (ipykernel)",
   "language": "python",
   "name": "python3"
  },
  "language_info": {
   "codemirror_mode": {
    "name": "ipython",
    "version": 3
   },
   "file_extension": ".py",
   "mimetype": "text/x-python",
   "name": "python",
   "nbconvert_exporter": "python",
   "pygments_lexer": "ipython3",
   "version": "3.10.4"
  }
 },
 "nbformat": 4,
 "nbformat_minor": 5
}
