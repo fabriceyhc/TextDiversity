{
 "cells": [
  {
   "cell_type": "code",
   "execution_count": 1,
   "id": "54b94b7b",
   "metadata": {},
   "outputs": [],
   "source": [
    "import random\n",
    "from datasets import load_dataset\n",
    "from textdiversity import (\n",
    "    DocumentSemanticDiversity,\n",
    "    POSSequenceDiversity,\n",
    "    RhythmicDiversity,\n",
    "    DependencyDiversity,\n",
    ")"
   ]
  },
  {
   "cell_type": "code",
   "execution_count": 2,
   "id": "2e35920b",
   "metadata": {},
   "outputs": [
    {
     "name": "stderr",
     "output_type": "stream",
     "text": [
      "WARNING:datasets.builder:Reusing dataset glue (C:\\Users\\fabri\\.cache\\huggingface\\datasets\\glue\\sst2\\1.0.0\\dacbe3125aa31d7f70367a07a8a9e72a5a0bfeb5fc42e75c9db75b96da6053ad)\n"
     ]
    }
   ],
   "source": [
    "dataset = load_dataset(\"glue\", \"sst2\", split=\"train\")\n",
    "dataset = dataset.rename_column(\"sentence\", \"text\")"
   ]
  },
  {
   "cell_type": "code",
   "execution_count": 3,
   "id": "bdc4ecc1",
   "metadata": {},
   "outputs": [],
   "source": [
    "metric_classes = [\n",
    "    DocumentSemanticDiversity,\n",
    "    POSSequenceDiversity,\n",
    "    RhythmicDiversity,\n",
    "    DependencyDiversity,\n",
    "]\n",
    "metric_instances = [m() for m in metric_classes]"
   ]
  },
  {
   "cell_type": "code",
   "execution_count": null,
   "id": "5933b5e0",
   "metadata": {},
   "outputs": [
    {
     "name": "stdout",
     "output_type": "stream",
     "text": [
      "DocumentSemanticDiversity\n",
      "query: we cannot believe that the movie is this dumb\n",
      "score: 0.79 | text: saw how bad this movie was \n",
      "score: 0.69 | text: will find little of interest in this film , which is often preachy and poorly acted \n",
      "score: 0.63 | text: on the worst revenge-of-the-nerds clichés the filmmakers could dredge up \n",
      "POSSequenceDiversity\n",
      "query: we cannot believe that the movie is this dumb\n",
      "score: 0.5 | text: saw how bad this movie was\n",
      "score: 0.5 | text: that 's far too tragic to merit such superficial treatment\n",
      "score: 0.5 | text: lend some dignity to a dumb story\n",
      "RhythmicDiversity\n",
      "query: we cannot believe that the movie is this dumb\n"
     ]
    }
   ],
   "source": [
    "# texts = random.sample(dataset['text'], 100)\n",
    "texts = dataset['text'][:100]\n",
    "\n",
    "# extract query from corpus\n",
    "query = \"we cannot believe that the movie is this dumb\"\n",
    "\n",
    "for metric in metric_instances:\n",
    "    print(metric.__class__.__name__)\n",
    "    print(f\"query: {query}\")\n",
    "    ranking, scores = metric.rank_similarity([query], texts, top_n=3)\n",
    "    for text, score in zip(ranking, scores):\n",
    "        print(f\"score: {round(score, 2)} | text: {text}\")"
   ]
  },
  {
   "cell_type": "code",
   "execution_count": null,
   "id": "4fe44b7e",
   "metadata": {},
   "outputs": [],
   "source": []
  }
 ],
 "metadata": {
  "kernelspec": {
   "display_name": "Python 3 (ipykernel)",
   "language": "python",
   "name": "python3"
  },
  "language_info": {
   "codemirror_mode": {
    "name": "ipython",
    "version": 3
   },
   "file_extension": ".py",
   "mimetype": "text/x-python",
   "name": "python",
   "nbconvert_exporter": "python",
   "pygments_lexer": "ipython3",
   "version": "3.10.4"
  }
 },
 "nbformat": 4,
 "nbformat_minor": 5
}
